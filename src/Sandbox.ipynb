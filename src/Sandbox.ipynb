{
 "cells": [
  {
   "cell_type": "code",
   "execution_count": null,
   "metadata": {},
   "outputs": [],
   "source": [
    "import pandas as pd\n",
    "import numpy as np\n",
    "import matplotlib.pyplot as plt\n",
    "import matplotlib.cm as cm\n",
    "from matplotlib.lines import Line2D\n",
    "import matplotlib\n",
    "\n",
    "from scipy.stats import gamma\n",
    "from scipy.stats import norm\n",
    "from scipy.stats import multivariate_normal\n",
    "from scipy.stats import gaussian_kde\n",
    "from scipy.special import expit\n",
    "from scipy.special import logsumexp\n",
    "from scipy.optimize import minimize\n",
    "from scipy.optimize import LinearConstraint\n",
    "from scipy.signal import convolve\n",
    "from scipy.interpolate import interp1d\n",
    "from scipy.ndimage import gaussian_filter1d\n",
    "\n",
    "import divebomb\n",
    "\n",
    "import time\n",
    "import pickle\n",
    "\n",
    "import importlib\n",
    "\n",
    "matplotlib.rcParams.update({'font.size': 12})\n",
    "#matplotlib.rcParams.update({'lines.markersize': 20})\n",
    "\n",
    "np.random.seed(0)\n",
    "\n",
    "import Preprocessor\n",
    "import Parameters\n",
    "import HHMM\n",
    "import Visualisor\n",
    "\n",
    "train_new = False\n",
    "#model = 'CarHMM'\n",
    "#model = 'HHMM'\n",
    "#model = 'CarHHMM1'\n",
    "model = 'CarHHMM2'"
   ]
  },
  {
   "cell_type": "code",
   "execution_count": null,
   "metadata": {},
   "outputs": [],
   "source": [
    "pars = Parameters.Parameters()\n",
    "\n",
    "pars.cvc_file = '../Dat/diary/20200826-140823-Gikumi_2020_OG_137.cvc'\n",
    "pars.csv_file = '../Dat/diary/20200826-140823-Gikumi_2020_OG_137.csv'\n",
    "\n",
    "pars.stime = '2020-08-25 10:20:00'\n",
    "pars.etime = '2020-08-25 15:45:00'\n",
    "pars.drop_times = []\n",
    "\n",
    "\n",
    "pars.features = [{'dive_duration':{'corr':False,'f':'gamma'}},\n",
    "                 {'Ax':{'corr':True,'f':'normal'},\n",
    "                  'Ay':{'corr':True,'f':'normal'},\n",
    "                  'Az':{'corr':True,'f':'normal'},\n",
    "                  'Ahat_low':{'thresh':5,'corr':False,'f':'gamma'}}]\n",
    "\n",
    "pars.K = [2,3]\n",
    "if model == 'CarHMM':\n",
    "    pars.K = [1,3]\n",
    "elif model == 'HHMM':\n",
    "    pars.features[1]['Ax']['corr'] = False\n",
    "    pars.features[1]['Ay']['corr'] = False\n",
    "    pars.features[1]['Az']['corr'] = False\n",
    "elif model == 'CarHHMM1':\n",
    "    pars.features[1] = {'Ax':{'corr':True,'f':'normal'},\n",
    "                        'Ay':{'corr':True,'f':'normal'},\n",
    "                        'Az':{'corr':True,'f':'normal'}}\n",
    "\n",
    "prep = Preprocessor.Preprocessor(pars)\n",
    "\n",
    "df = prep.load_data(pars.cvc_file,\n",
    "                    pars.csv_file,\n",
    "                    pars.cvc_cols)"
   ]
  },
  {
   "cell_type": "code",
   "execution_count": null,
   "metadata": {},
   "outputs": [],
   "source": [
    "df['elevation'] = -df['depth']\n",
    "df['VeDBA'] = np.sqrt(df['Ax']**2 + df['Ay']**2 + df['Az']**2)\n",
    "df['jerk'] = 50*gaussian_filter1d(df['VeDBA'], sigma=1, order=1, mode='wrap')"
   ]
  },
  {
   "cell_type": "code",
   "execution_count": null,
   "metadata": {},
   "outputs": [],
   "source": [
    "# load in ethogram\n",
    "ethogram_file = '../Dat/ethograms/I107_ethogram_Dec_14_2020.csv'\n",
    "ethogram = pd.read_csv(ethogram_file,encoding='cp1252')\n",
    "\n",
    "ethogram['time'] = pd.to_datetime('2020-08-25 ' + ethogram['event.time'],\n",
    "                                   format = '%Y-%m-%d %I:%M:%S %p',\n",
    "                                   errors = 'coerce')"
   ]
  },
  {
   "cell_type": "code",
   "execution_count": null,
   "metadata": {},
   "outputs": [],
   "source": [
    "pd.set_option('display.width', 10000)\n",
    "pd.set_option('max_colwidth', 600)\n",
    "crunches = ethogram[ethogram['Behavior'] == 'quick']\n",
    "display(crunches)"
   ]
  },
  {
   "cell_type": "code",
   "execution_count": null,
   "metadata": {},
   "outputs": [],
   "source": [
    "ethogram['Media file path'][0]"
   ]
  },
  {
   "cell_type": "code",
   "execution_count": null,
   "metadata": {
    "scrolled": false
   },
   "outputs": [],
   "source": [
    "#stime = '2020-08-25 12:30:00'\n",
    "#etime = '2020-08-25 12:35:00'\n",
    "stimes0 = ['2020-08-25 00:00:00','2020-08-25 12:00:00','2020-08-25 13:00:00','2020-08-25 14:00:00','2020-08-25 15:00:00']\n",
    "etimes0 = ['2020-08-26 14:00:00','2020-08-25 13:00:00','2020-08-25 14:00:00','2020-08-25 15:00:00','2020-08-25 16:00:00']\n",
    "stimes = ['2020-08-25 10:00:00','2020-08-25 12:05:00','2020-08-25 12:18:00',\n",
    "          '2020-08-25 12:22:00','2020-08-25 12:26:00',\n",
    "          '2020-08-25 12:41:00','2020-08-25 13:20:00',\n",
    "          '2020-08-25 13:26:00','2020-08-25 13:37:00'] + stimes0\n",
    "etimes = ['2020-08-26 01:00:00','2020-08-25 12:13:00','2020-08-25 12:21:00',\n",
    "          '2020-08-25 12:25:30','2020-08-25 12:34:00',\n",
    "          '2020-08-25 12:47:00','2020-08-25 13:26:00',\n",
    "          '2020-08-25 13:31:00','2020-08-25 13:45:00'] + etimes0\n",
    "\n",
    "for stime,etime in zip(stimes,etimes):\n",
    "    \n",
    "    if stime == '2020-08-25 00:00:00':\n",
    "        cmap = cm.get_cmap('tab10')\n",
    "    else:\n",
    "        cmap = cm.get_cmap('tab10')\n",
    "\n",
    "    cols = ['elevation',\n",
    "            'roll','pitch','yaw',\n",
    "            'Ax','Ay','Az','VeDBA','jerk',\n",
    "            'Mx','My','Mz',\n",
    "            'gyro x','gyro y','gyro z']\n",
    "\n",
    "    # plot data\n",
    "    fig,ax = plt.subplots(nrows=len(cols),ncols=1,figsize = (20,50))\n",
    "    crunch_df = df[(df['time'] > stime) &\\\n",
    "                   (df['time'] < etime)].iloc[::10]\n",
    "\n",
    "    for i,col in enumerate(cols):\n",
    "        ax[i].plot(crunch_df['time'],crunch_df[col],color='k',linewidth=0.5)\n",
    "        ax[i].set_ylabel(col)\n",
    "\n",
    "\n",
    "    # plot behaviors\n",
    "    point_ethogram = ethogram[(ethogram['time'] > stime) &\\\n",
    "                              (ethogram['time'] < etime)]\n",
    "\n",
    "    print(point_ethogram['Behavior'].unique())\n",
    "    behaviors = np.array(['crunch','Scales','Echolocation','quick','Other whale with fish','bottom'])#point_ethogram['Behavior'].unique()\n",
    "    for _,item in point_ethogram.iterrows():\n",
    "        if item['Behavior'] in behaviors:\n",
    "            try:\n",
    "                color_ind = np.where(behaviors == item['Behavior'])[0][0]\n",
    "                for i,col in enumerate(cols):\n",
    "                    ax[i].axvline(item['time'],color=cmap(color_ind))\n",
    "            except:\n",
    "                print(item['Behavior'])\n",
    "                print(behaviors)\n",
    "\n",
    "    # make legend\n",
    "    custom_lines = [Line2D([0], [0], color=cmap(i), lw=2) for i in range(len(behaviors))]\n",
    "    fig.legend(custom_lines,behaviors)\n",
    "    plt.show()"
   ]
  },
  {
   "cell_type": "code",
   "execution_count": null,
   "metadata": {},
   "outputs": [],
   "source": [
    "df.columns"
   ]
  },
  {
   "cell_type": "code",
   "execution_count": null,
   "metadata": {},
   "outputs": [],
   "source": []
  }
 ],
 "metadata": {
  "kernelspec": {
   "display_name": "Python 3",
   "language": "python",
   "name": "python3"
  },
  "language_info": {
   "codemirror_mode": {
    "name": "ipython",
    "version": 3
   },
   "file_extension": ".py",
   "mimetype": "text/x-python",
   "name": "python",
   "nbconvert_exporter": "python",
   "pygments_lexer": "ipython3",
   "version": "3.7.6"
  }
 },
 "nbformat": 4,
 "nbformat_minor": 4
}
